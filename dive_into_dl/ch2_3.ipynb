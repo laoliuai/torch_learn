{
 "cells": [
  {
   "cell_type": "code",
   "execution_count": 1,
   "id": "4099e0ab-13a0-40ae-8834-671f818da4da",
   "metadata": {},
   "outputs": [],
   "source": [
    "## \n",
    "import torch\n",
    "\n",
    "A = torch.arange(12).reshape(3, 4)\n",
    "B = A.T   # A的转置，矩阵转置。如果有更多的轴呢？\n",
    "\n",
    "C = A.clone()  # 复制一个A，独立分配内存，后面C和A没关系了。如果C=A，则C指向A的内存。"
   ]
  },
  {
   "cell_type": "code",
   "execution_count": 2,
   "id": "3409e9df-2148-49a1-bf8e-b9e5da58e69c",
   "metadata": {},
   "outputs": [
    {
     "name": "stdout",
     "output_type": "stream",
     "text": [
      "tensor([[ 0,  1,  2,  3],\n",
      "        [ 4,  5,  6,  7],\n",
      "        [ 8,  9, 10, 11],\n",
      "        [12, 13, 14, 15],\n",
      "        [16, 17, 18, 19]])\n"
     ]
    }
   ],
   "source": [
    "x = torch.arange(20).reshape(5, 4)\n",
    "print(x)"
   ]
  },
  {
   "cell_type": "code",
   "execution_count": null,
   "id": "fb943abe-76cc-4116-ae10-c7d07e83073d",
   "metadata": {},
   "outputs": [],
   "source": []
  }
 ],
 "metadata": {
  "kernelspec": {
   "display_name": "Python 3 (ipykernel)",
   "language": "python",
   "name": "python3"
  },
  "language_info": {
   "codemirror_mode": {
    "name": "ipython",
    "version": 3
   },
   "file_extension": ".py",
   "mimetype": "text/x-python",
   "name": "python",
   "nbconvert_exporter": "python",
   "pygments_lexer": "ipython3",
   "version": "3.10.15"
  }
 },
 "nbformat": 4,
 "nbformat_minor": 5
}
