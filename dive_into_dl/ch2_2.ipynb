{
 "cells": [
  {
   "cell_type": "code",
   "execution_count": 3,
   "id": "de8db42a-1428-4c3f-815f-c6735b75919a",
   "metadata": {},
   "outputs": [
    {
     "name": "stdout",
     "output_type": "stream",
     "text": [
      "   NumRooms Alley   Price\n",
      "0       NaN  Pave  127500\n",
      "1       2.0   NaN  106000\n",
      "2       4.0   NaN  178100\n",
      "3       NaN   NaN  140000\n"
     ]
    }
   ],
   "source": [
    "## 读取数据集\n",
    "\n",
    "import os\n",
    "\n",
    "os.makedirs(os.path.join('.', 'data'), exist_ok=True)\n",
    "data_file = os.path.join('.', 'data', 'house_tiny.csv')\n",
    "with open(data_file, 'w') as f:\n",
    "    f.write('NumRooms,Alley,Price\\n')  # 列名\n",
    "    f.write('NA,Pave,127500\\n')  # 每行表示一个数据样本\n",
    "    f.write('2,NA,106000\\n')\n",
    "    f.write('4,NA,178100\\n')\n",
    "    f.write('NA,NA,140000\\n')\n",
    "\n",
    "# 如果没有安装pandas，只需取消对以下行的注释来安装pandas： pip install pandas\n",
    "import pandas as pd\n",
    "\n",
    "data = pd.read_csv(data_file)\n",
    "print(data)"
   ]
  },
  {
   "cell_type": "code",
   "execution_count": 18,
   "id": "47a1aa51-121d-4dcf-8775-782c2c7f7d16",
   "metadata": {},
   "outputs": [
    {
     "name": "stdout",
     "output_type": "stream",
     "text": [
      "   NumRooms Alley\n",
      "0       NaN  Pave\n",
      "1       2.0   NaN\n",
      "2       4.0   NaN\n",
      "3       NaN   NaN\n",
      "0    127500\n",
      "1    106000\n",
      "2    178100\n",
      "3    140000\n",
      "Name: Price, dtype: int64\n",
      "   NumRooms  Alley_Pave  Alley_nan\n",
      "0       NaN        True      False\n",
      "1       2.0       False       True\n",
      "2       4.0       False       True\n",
      "3       NaN       False       True\n",
      "   NumRooms  Alley_Pave  Alley_nan\n",
      "0       3.0        True      False\n",
      "1       2.0       False       True\n",
      "2       4.0       False       True\n",
      "3       3.0       False       True\n"
     ]
    }
   ],
   "source": [
    "## 处理缺失值\n",
    "\n",
    "# NaN代表缺失值\n",
    "# 常见的处理缺失值的方法包括 插值法 和 删除法。\n",
    "# 插值法用一个替代值弥补缺失值，而删除法则直接忽略缺失值\n",
    "\n",
    "# 插值法： 用同列的平均值代替缺失值\n",
    "inputs, outputs = data.iloc[:, 0:2], data.iloc[:, 2]  # 将三列分为前两列，和最后一列，两组\n",
    "print(inputs)\n",
    "print(outputs)\n",
    "\n",
    "# Alley这列是离散值，总共有两个值：Pave和nan，pandas会把这列转为两列，Alley_Pave和Alley_nan\n",
    "# 所以Pave的列，其Alley_Pave为True(1)，Alley_nan为False(0)。而NaN列，其Alley_Pave为0，Alley_nan为1\n",
    "inputs = pd.get_dummies(inputs, dummy_na=True)\n",
    "print(inputs)\n",
    "\n",
    "# 用均值代替缺失值\n",
    "try:\n",
    "    inputs = inputs.fillna(inputs.mean())  # inputs.select_dtypes(include=\"number\").mean()\n",
    "    # inputs['Alley_Pave'] = inputs[\"Alley_Pave\"].astype(int)\n",
    "    # inputs['Alley_nan'] = inputs[\"Alley_nan\"].astype(int)\n",
    "    print(inputs)\n",
    "except Exception as e:\n",
    "    print(e)"
   ]
  },
  {
   "cell_type": "code",
   "execution_count": 19,
   "id": "cf845950-794d-4078-bdb5-3dfb30b8df14",
   "metadata": {},
   "outputs": [
    {
     "name": "stdout",
     "output_type": "stream",
     "text": [
      "tensor([[3., 1., 0.],\n",
      "        [2., 0., 1.],\n",
      "        [4., 0., 1.],\n",
      "        [3., 0., 1.]], dtype=torch.float64)\n",
      "tensor([127500., 106000., 178100., 140000.], dtype=torch.float64)\n"
     ]
    }
   ],
   "source": [
    "## 转为张量格式\n",
    "\n",
    "import torch\n",
    "\n",
    "X = torch.tensor(inputs.to_numpy(dtype=float))\n",
    "Y = torch.tensor(outputs.to_numpy(dtype=float))\n",
    "print(X)\n",
    "print(Y)"
   ]
  },
  {
   "cell_type": "code",
   "execution_count": 25,
   "id": "ebc06734-f3c4-4161-8634-86ddb7ad339a",
   "metadata": {},
   "outputs": [
    {
     "name": "stdout",
     "output_type": "stream",
     "text": [
      "data:    NumRooms Alley   Price\n",
      "0       NaN  Pave  127500\n",
      "1       2.0   NaN  106000\n",
      "2       4.0   NaN  178100\n",
      "3       NaN   NaN  140000\n",
      "nan_counts: NumRooms    2\n",
      "Alley       3\n",
      "Price       0\n",
      "dtype: int64\n",
      "max_nan_col: Alley\n",
      "data:    NumRooms   Price\n",
      "0       NaN  127500\n",
      "1       2.0  106000\n",
      "2       4.0  178100\n",
      "3       NaN  140000\n",
      "   NumRooms\n",
      "0       3.0\n",
      "1       2.0\n",
      "2       4.0\n",
      "3       3.0\n",
      "<class 'numpy.ndarray'>\n",
      "tensor([[3.],\n",
      "        [2.],\n",
      "        [4.],\n",
      "        [3.]], dtype=torch.float64)\n",
      "\n",
      "tensor([127500, 106000, 178100, 140000])\n"
     ]
    }
   ],
   "source": [
    "## 习题： 删除缺失值最多的列 及 将预处理后的数据集转换为张量格式。\n",
    "data = pd.read_csv(data_file)\n",
    "print(\"data:\", data)\n",
    "\n",
    "# 查找每列中的 NaN 值数量\n",
    "nan_counts = pd.isna(data).sum()\n",
    "print(\"nan_counts:\", nan_counts)\n",
    "# 找出 NaN 值最多的列\n",
    "max_nan_col = nan_counts.idxmax()\n",
    "print(\"max_nan_col:\", max_nan_col)\n",
    "# 删除方法\n",
    "data.drop(max_nan_col, axis=1, inplace=True)\n",
    "print(\"data:\", data)\n",
    "\n",
    "# 将预处理后的数据集转换为张量格式。\n",
    "inputs, outputs = data.iloc[:, :-1], data.iloc[:, -1]\n",
    "inputs = inputs.fillna(inputs.mean())\n",
    "inputs = pd.get_dummies(inputs, dummy_na=True)\n",
    "print(inputs)\n",
    "\n",
    "# DataFrame对象的values，就是ndarray类型\n",
    "x, y = torch.tensor(inputs.values), torch.tensor(outputs.values)\n",
    "print(x)\n",
    "print()\n",
    "print(y)"
   ]
  },
  {
   "cell_type": "code",
   "execution_count": null,
   "id": "676255c1-7326-4cd4-8dae-e9810be84aa2",
   "metadata": {},
   "outputs": [],
   "source": []
  }
 ],
 "metadata": {
  "kernelspec": {
   "display_name": "Python 3 (ipykernel)",
   "language": "python",
   "name": "python3"
  },
  "language_info": {
   "codemirror_mode": {
    "name": "ipython",
    "version": 3
   },
   "file_extension": ".py",
   "mimetype": "text/x-python",
   "name": "python",
   "nbconvert_exporter": "python",
   "pygments_lexer": "ipython3",
   "version": "3.10.15"
  }
 },
 "nbformat": 4,
 "nbformat_minor": 5
}
